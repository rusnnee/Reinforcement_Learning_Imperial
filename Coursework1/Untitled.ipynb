{
 "cells": [
  {
   "cell_type": "code",
   "execution_count": 40,
   "id": "bcacb977",
   "metadata": {},
   "outputs": [
    {
     "name": "stdout",
     "output_type": "stream",
     "text": [
      "[1. 1. 1.]\n"
     ]
    }
   ],
   "source": [
    "import numpy as np\n",
    "\n",
    "a = np.zeros ([5, 5, 3])\n",
    "a [1, 2] = 1\n",
    "print (a[1, 2])\n",
    "a [1, 2, 0] = 3\n",
    "\n",
    "b = 3\n",
    " \n",
    "if b not in a[1, 2]:\n",
    "    print (\"a aaa\" )"
   ]
  },
  {
   "cell_type": "code",
   "execution_count": 49,
   "id": "b9466347",
   "metadata": {},
   "outputs": [
    {
     "name": "stdout",
     "output_type": "stream",
     "text": [
      "[[[0. 0. 0.]\n",
      "  [0. 0. 0.]\n",
      "  [0. 0. 0.]\n",
      "  [0. 0. 0.]\n",
      "  [0. 0. 0.]]\n",
      "\n",
      " [[0. 0. 0.]\n",
      "  [0. 0. 0.]\n",
      "  [3. 1. 1.]\n",
      "  [0. 0. 0.]\n",
      "  [0. 0. 0.]]\n",
      "\n",
      " [[0. 0. 0.]\n",
      "  [0. 0. 0.]\n",
      "  [0. 0. 0.]\n",
      "  [0. 0. 0.]\n",
      "  [0. 0. 0.]]\n",
      "\n",
      " [[0. 0. 0.]\n",
      "  [0. 0. 0.]\n",
      "  [0. 0. 0.]\n",
      "  [0. 0. 0.]\n",
      "  [0. 0. 0.]]\n",
      "\n",
      " [[0. 0. 0.]\n",
      "  [0. 0. 0.]\n",
      "  [0. 0. 0.]\n",
      "  [0. 0. 0.]\n",
      "  [0. 0. 0.]]]\n",
      "_____\n",
      "[3. 1. 1.]\n",
      "_____\n",
      "[3. 1. 1.]\n"
     ]
    }
   ],
   "source": [
    "c = (1, 2)\n",
    "print (a)\n",
    "print (\"_____\")\n",
    "print (a[c])\n",
    "print (\"_____\")\n",
    "print (a[1, 2])"
   ]
  },
  {
   "cell_type": "code",
   "execution_count": 71,
   "id": "e0369716",
   "metadata": {},
   "outputs": [
    {
     "data": {
      "text/plain": [
       "array([5, 6])"
      ]
     },
     "execution_count": 71,
     "metadata": {},
     "output_type": "execute_result"
    }
   ],
   "source": [
    "import numpy as np\n",
    "# create a numpy array\n",
    "x = np.array([[1, 2, 3], [4, 5, 6]], np.int32)\n",
    "\n",
    "ar = x[1, x[1] != 4]\n",
    "ar"
   ]
  },
  {
   "cell_type": "code",
   "execution_count": 75,
   "id": "3a49df93",
   "metadata": {},
   "outputs": [
    {
     "data": {
      "text/plain": [
       "1"
      ]
     },
     "execution_count": 75,
     "metadata": {},
     "output_type": "execute_result"
    }
   ],
   "source": [
    "l = [1, 2, 3, 4]\n",
    "l.index(2)"
   ]
  },
  {
   "cell_type": "code",
   "execution_count": 81,
   "id": "3e51bb07",
   "metadata": {},
   "outputs": [
    {
     "data": {
      "text/plain": [
       "2"
      ]
     },
     "execution_count": 81,
     "metadata": {},
     "output_type": "execute_result"
    }
   ],
   "source": [
    "a = 1\n",
    "a +=1\n",
    "a "
   ]
  },
  {
   "cell_type": "code",
   "execution_count": 89,
   "id": "b7430609",
   "metadata": {},
   "outputs": [
    {
     "data": {
      "text/plain": [
       "2"
      ]
     },
     "execution_count": 89,
     "metadata": {},
     "output_type": "execute_result"
    }
   ],
   "source": [
    "v = np.array ([1, 2, 3, 4, 5])\n",
    "b = np.array([2, 3, 4, 5, 7])\n",
    "\n",
    "v-b\n",
    "max (abs (v-b))"
   ]
  },
  {
   "cell_type": "code",
   "execution_count": 97,
   "id": "bcb76bbc",
   "metadata": {},
   "outputs": [
    {
     "data": {
      "text/plain": [
       "array([10., 10., 10., 10.])"
      ]
     },
     "execution_count": 97,
     "metadata": {},
     "output_type": "execute_result"
    }
   ],
   "source": [
    "a = np.array ([0, 1, 2, 3])\n",
    "p = np.ones ([5, 5, 4])\n",
    "r = np.ones([5, 5, 4]) *2\n",
    "\n",
    "\n",
    "\n",
    "sum (p[1]*r[1])"
   ]
  },
  {
   "cell_type": "code",
   "execution_count": 99,
   "id": "d1acb80b",
   "metadata": {},
   "outputs": [
    {
     "data": {
      "text/plain": [
       "array([[2., 2., 2., 2.],\n",
       "       [2., 2., 2., 2.],\n",
       "       [2., 2., 2., 2.],\n",
       "       [2., 2., 2., 2.],\n",
       "       [2., 2., 2., 2.]])"
      ]
     },
     "execution_count": 99,
     "metadata": {},
     "output_type": "execute_result"
    }
   ],
   "source": []
  },
  {
   "cell_type": "code",
   "execution_count": 4,
   "id": "47eed418",
   "metadata": {},
   "outputs": [
    {
     "data": {
      "text/plain": [
       "array([[0.25, 0.25, 0.25, 0.25],\n",
       "       [0.25, 0.25, 0.25, 0.25],\n",
       "       [0.25, 0.25, 0.25, 0.25],\n",
       "       [0.25, 0.25, 0.25, 0.25],\n",
       "       [0.25, 0.25, 0.25, 0.25]])"
      ]
     },
     "execution_count": 4,
     "metadata": {},
     "output_type": "execute_result"
    }
   ],
   "source": [
    "import numpy as np\n",
    "\n",
    "policy = np.zeros([5, 4])\n",
    "policy[:, :] = 0.25\n",
    "policy"
   ]
  },
  {
   "cell_type": "code",
   "execution_count": 6,
   "id": "ca6c7057",
   "metadata": {},
   "outputs": [
    {
     "name": "stdout",
     "output_type": "stream",
     "text": [
      "0\n",
      "1\n",
      "2\n",
      "3\n",
      "4\n"
     ]
    }
   ],
   "source": [
    "for n in range (10):\n",
    "    print (n)\n",
    "    if n > 3:\n",
    "        break"
   ]
  },
  {
   "cell_type": "code",
   "execution_count": 13,
   "id": "a4a7c801",
   "metadata": {},
   "outputs": [
    {
     "data": {
      "text/plain": [
       "[1, 2, 3, 4, 20, 20]"
      ]
     },
     "execution_count": 13,
     "metadata": {},
     "output_type": "execute_result"
    }
   ],
   "source": [
    "rewards = [1, 2, 3, 4, 0]\n",
    "rewards[-1] += 10\n",
    "rewards[-1] += 10\n",
    "rewards.append(0)\n",
    "rewards[-1] += 10\n",
    "rewards[-1] += 10\n",
    "rewards"
   ]
  },
  {
   "cell_type": "code",
   "execution_count": 16,
   "id": "109deaee",
   "metadata": {},
   "outputs": [
    {
     "data": {
      "text/plain": [
       "[10]"
      ]
     },
     "execution_count": 16,
     "metadata": {},
     "output_type": "execute_result"
    }
   ],
   "source": [
    "r = []\n",
    "r.append(0)\n",
    "r[-1] += 10\n",
    "r"
   ]
  },
  {
   "cell_type": "code",
   "execution_count": 27,
   "id": "a0627fde",
   "metadata": {},
   "outputs": [
    {
     "data": {
      "text/plain": [
       "[3, 7, 11]"
      ]
     },
     "execution_count": 27,
     "metadata": {},
     "output_type": "execute_result"
    }
   ],
   "source": [
    "S = [1, 2, 3, 4, 1, 2,3,4,1,2,3,4,1,2,3,4]\n",
    "\n",
    "index = [i for i, e in enumerate(S[:15]) if e == 4]\n",
    "index"
   ]
  },
  {
   "cell_type": "code",
   "execution_count": 24,
   "id": "0d419b77",
   "metadata": {},
   "outputs": [
    {
     "name": "stdout",
     "output_type": "stream",
     "text": [
      "Index for Value java:  [2, 6, 8]\n"
     ]
    }
   ],
   "source": [
    "list=['Code', 'Favtutor', 'java','Machine Learning', 'Students', 'Studies', 'java', 'python','java']\n",
    "index = [i for i ,e in enumerate(list) if e == 'java']\n",
    "print(\"Index for Value java: \", index)"
   ]
  },
  {
   "cell_type": "code",
   "execution_count": null,
   "id": "e564b592",
   "metadata": {},
   "outputs": [],
   "source": []
  }
 ],
 "metadata": {
  "kernelspec": {
   "display_name": "Python 3 (ipykernel)",
   "language": "python",
   "name": "python3"
  },
  "language_info": {
   "codemirror_mode": {
    "name": "ipython",
    "version": 3
   },
   "file_extension": ".py",
   "mimetype": "text/x-python",
   "name": "python",
   "nbconvert_exporter": "python",
   "pygments_lexer": "ipython3",
   "version": "3.9.13"
  }
 },
 "nbformat": 4,
 "nbformat_minor": 5
}
